{
  "nbformat": 4,
  "nbformat_minor": 0,
  "metadata": {
    "colab": {
      "name": "Introduction-to-Data-Science-with-Python.ipynb",
      "provenance": [],
      "collapsed_sections": []
    },
    "kernelspec": {
      "name": "python3",
      "display_name": "Python 3"
    },
    "language_info": {
      "name": "python"
    }
  },
  "cells": [
    {
      "cell_type": "markdown",
      "source": [
        "# **[Python \"Hello World\" & Statement](https://academy.dqlab.id/main/livecode/162/306/1398)**"
      ],
      "metadata": {
        "id": "yb_z-AJ6LdQc"
      }
    },
    {
      "cell_type": "code",
      "execution_count": 1,
      "metadata": {
        "colab": {
          "base_uri": "https://localhost:8080/"
        },
        "id": "2OCctkA6LVVj",
        "outputId": "9f7a9a60-a89e-4152-dbbc-a5135cf28269"
      },
      "outputs": [
        {
          "output_type": "stream",
          "name": "stdout",
          "text": [
            "Hello World.\n",
            "Saya Aksara, baru belajar Python.\n"
          ]
        }
      ],
      "source": [
        "print(\"Hello World.\")\n",
        "print(\"Saya Aksara, baru belajar Python.\")"
      ]
    },
    {
      "cell_type": "markdown",
      "source": [
        "# **[Variables di Python](https://academy.dqlab.id/main/livecode/162/306/1399)**"
      ],
      "metadata": {
        "id": "8jUM3mfmL7rX"
      }
    },
    {
      "cell_type": "code",
      "source": [
        "bil1 = 10\n",
        "bil_2 = 20\n",
        "Frasa = \"Halo Dunia\"\n",
        "bil1, bil_2 = 10, 20\n",
        "salam = \"Selamat Pagi\"; Penutup = \"Salam Sejahtera\""
      ],
      "metadata": {
        "id": "Uv-mBR1_MJOj"
      },
      "execution_count": 2,
      "outputs": []
    },
    {
      "cell_type": "markdown",
      "source": [
        "# **[Comments di Python](https://academy.dqlab.id/main/livecode/162/306/1401)**"
      ],
      "metadata": {
        "id": "_LL-NPsmMOBz"
      }
    },
    {
      "cell_type": "code",
      "source": [
        "# perintah pada baris ini tidak mempengaruhi program\n",
        "'''\n",
        "perintah ini tidak akan dieksekusi oleh Python\n",
        "dan perintah ini juga tidak akan dieksekusi\n",
        "perintah ini juga tidak akan dieksekusi\n",
        "'''\n",
        "print(\"jadi # digunakan untuk membuat comment pada Python\")"
      ],
      "metadata": {
        "colab": {
          "base_uri": "https://localhost:8080/"
        },
        "id": "zwCCBxYwMX11",
        "outputId": "171bcc3d-18d9-49f5-a0ee-1b097a63b316"
      },
      "execution_count": 3,
      "outputs": [
        {
          "output_type": "stream",
          "name": "stdout",
          "text": [
            "jadi # digunakan untuk membuat comment pada Python\n"
          ]
        }
      ]
    },
    {
      "cell_type": "markdown",
      "source": [
        "# **[Tugas Praktek](https://academy.dqlab.id/main/livecode/162/307/1406)**"
      ],
      "metadata": {
        "id": "YkPBpnsGMknF"
      }
    },
    {
      "cell_type": "code",
      "source": [
        "text = \"Belajar Python di DQLab.\"\n",
        "print(list(text))\n",
        "print(tuple(text))\n",
        "print(set(text))"
      ],
      "metadata": {
        "colab": {
          "base_uri": "https://localhost:8080/"
        },
        "id": "SMGkqkFCMyWF",
        "outputId": "3195e598-c3ac-4eab-d5ac-fc2ead3bc9a6"
      },
      "execution_count": 4,
      "outputs": [
        {
          "output_type": "stream",
          "name": "stdout",
          "text": [
            "['B', 'e', 'l', 'a', 'j', 'a', 'r', ' ', 'P', 'y', 't', 'h', 'o', 'n', ' ', 'd', 'i', ' ', 'D', 'Q', 'L', 'a', 'b', '.']\n",
            "('B', 'e', 'l', 'a', 'j', 'a', 'r', ' ', 'P', 'y', 't', 'h', 'o', 'n', ' ', 'd', 'i', ' ', 'D', 'Q', 'L', 'a', 'b', '.')\n",
            "{'a', 'd', 'D', ' ', 'n', 'P', 't', 'b', 'h', 'l', 'y', 'B', 'j', 'o', '.', 'r', 'i', 'e', 'Q', 'L'}\n"
          ]
        }
      ]
    },
    {
      "cell_type": "markdown",
      "source": [
        "# **[Menggunakan Library di Python](https://academy.dqlab.id/main/livecode/162/307/1408)**"
      ],
      "metadata": {
        "id": "QUMZcVVFM6Fx"
      }
    },
    {
      "cell_type": "code",
      "source": [
        "import math\n",
        "import numpy as np\n",
        "import pandas as pd\n",
        "import seaborn as sns"
      ],
      "metadata": {
        "id": "cG4-qYs0M-hF"
      },
      "execution_count": 5,
      "outputs": []
    }
  ]
}